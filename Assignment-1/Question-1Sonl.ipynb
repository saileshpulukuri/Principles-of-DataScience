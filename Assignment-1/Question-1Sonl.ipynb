{
 "cells": [
  {
   "cell_type": "code",
   "execution_count": 51,
   "metadata": {},
   "outputs": [],
   "source": [
    "import pandas as pd"
   ]
  },
  {
   "cell_type": "code",
   "execution_count": 52,
   "metadata": {},
   "outputs": [],
   "source": [
    "df = pd.read_csv(\"Q1.csv\")"
   ]
  },
  {
   "cell_type": "code",
   "execution_count": 53,
   "metadata": {},
   "outputs": [
    {
     "data": {
      "text/html": [
       "<div>\n",
       "<style scoped>\n",
       "    .dataframe tbody tr th:only-of-type {\n",
       "        vertical-align: middle;\n",
       "    }\n",
       "\n",
       "    .dataframe tbody tr th {\n",
       "        vertical-align: top;\n",
       "    }\n",
       "\n",
       "    .dataframe thead th {\n",
       "        text-align: right;\n",
       "    }\n",
       "</style>\n",
       "<table border=\"1\" class=\"dataframe\">\n",
       "  <thead>\n",
       "    <tr style=\"text-align: right;\">\n",
       "      <th></th>\n",
       "      <th>Height_in</th>\n",
       "      <th>Weight_lb</th>\n",
       "      <th>Age_yr</th>\n",
       "      <th>Grip_kg</th>\n",
       "      <th>Frailty</th>\n",
       "    </tr>\n",
       "  </thead>\n",
       "  <tbody>\n",
       "    <tr>\n",
       "      <th>0</th>\n",
       "      <td>65.8</td>\n",
       "      <td>112</td>\n",
       "      <td>30</td>\n",
       "      <td>28</td>\n",
       "      <td>N</td>\n",
       "    </tr>\n",
       "    <tr>\n",
       "      <th>1</th>\n",
       "      <td>71.5</td>\n",
       "      <td>136</td>\n",
       "      <td>19</td>\n",
       "      <td>31</td>\n",
       "      <td>N</td>\n",
       "    </tr>\n",
       "    <tr>\n",
       "      <th>2</th>\n",
       "      <td>69.4</td>\n",
       "      <td>153</td>\n",
       "      <td>45</td>\n",
       "      <td>29</td>\n",
       "      <td>N</td>\n",
       "    </tr>\n",
       "    <tr>\n",
       "      <th>3</th>\n",
       "      <td>68.2</td>\n",
       "      <td>142</td>\n",
       "      <td>22</td>\n",
       "      <td>28</td>\n",
       "      <td>Y</td>\n",
       "    </tr>\n",
       "    <tr>\n",
       "      <th>4</th>\n",
       "      <td>67.8</td>\n",
       "      <td>144</td>\n",
       "      <td>29</td>\n",
       "      <td>24</td>\n",
       "      <td>Y</td>\n",
       "    </tr>\n",
       "  </tbody>\n",
       "</table>\n",
       "</div>"
      ],
      "text/plain": [
       "   Height_in  Weight_lb  Age_yr  Grip_kg Frailty\n",
       "0       65.8        112      30       28       N\n",
       "1       71.5        136      19       31       N\n",
       "2       69.4        153      45       29       N\n",
       "3       68.2        142      22       28       Y\n",
       "4       67.8        144      29       24       Y"
      ]
     },
     "execution_count": 53,
     "metadata": {},
     "output_type": "execute_result"
    }
   ],
   "source": [
    "df.head()\n"
   ]
  },
  {
   "cell_type": "code",
   "execution_count": 54,
   "metadata": {},
   "outputs": [
    {
     "data": {
      "text/html": [
       "<div>\n",
       "<style scoped>\n",
       "    .dataframe tbody tr th:only-of-type {\n",
       "        vertical-align: middle;\n",
       "    }\n",
       "\n",
       "    .dataframe tbody tr th {\n",
       "        vertical-align: top;\n",
       "    }\n",
       "\n",
       "    .dataframe thead th {\n",
       "        text-align: right;\n",
       "    }\n",
       "</style>\n",
       "<table border=\"1\" class=\"dataframe\">\n",
       "  <thead>\n",
       "    <tr style=\"text-align: right;\">\n",
       "      <th></th>\n",
       "      <th>Height_in</th>\n",
       "      <th>Weight_lb</th>\n",
       "      <th>Age_yr</th>\n",
       "      <th>Grip_kg</th>\n",
       "      <th>Frailty</th>\n",
       "    </tr>\n",
       "  </thead>\n",
       "  <tbody>\n",
       "    <tr>\n",
       "      <th>0</th>\n",
       "      <td>65.8</td>\n",
       "      <td>112</td>\n",
       "      <td>30</td>\n",
       "      <td>28</td>\n",
       "      <td>N</td>\n",
       "    </tr>\n",
       "    <tr>\n",
       "      <th>1</th>\n",
       "      <td>71.5</td>\n",
       "      <td>136</td>\n",
       "      <td>19</td>\n",
       "      <td>31</td>\n",
       "      <td>N</td>\n",
       "    </tr>\n",
       "    <tr>\n",
       "      <th>2</th>\n",
       "      <td>69.4</td>\n",
       "      <td>153</td>\n",
       "      <td>45</td>\n",
       "      <td>29</td>\n",
       "      <td>N</td>\n",
       "    </tr>\n",
       "    <tr>\n",
       "      <th>3</th>\n",
       "      <td>68.2</td>\n",
       "      <td>142</td>\n",
       "      <td>22</td>\n",
       "      <td>28</td>\n",
       "      <td>Y</td>\n",
       "    </tr>\n",
       "    <tr>\n",
       "      <th>4</th>\n",
       "      <td>67.8</td>\n",
       "      <td>144</td>\n",
       "      <td>29</td>\n",
       "      <td>24</td>\n",
       "      <td>Y</td>\n",
       "    </tr>\n",
       "    <tr>\n",
       "      <th>5</th>\n",
       "      <td>68.7</td>\n",
       "      <td>123</td>\n",
       "      <td>50</td>\n",
       "      <td>26</td>\n",
       "      <td>N</td>\n",
       "    </tr>\n",
       "    <tr>\n",
       "      <th>6</th>\n",
       "      <td>69.8</td>\n",
       "      <td>141</td>\n",
       "      <td>51</td>\n",
       "      <td>22</td>\n",
       "      <td>Y</td>\n",
       "    </tr>\n",
       "    <tr>\n",
       "      <th>7</th>\n",
       "      <td>70.1</td>\n",
       "      <td>136</td>\n",
       "      <td>23</td>\n",
       "      <td>20</td>\n",
       "      <td>Y</td>\n",
       "    </tr>\n",
       "    <tr>\n",
       "      <th>8</th>\n",
       "      <td>67.9</td>\n",
       "      <td>112</td>\n",
       "      <td>17</td>\n",
       "      <td>19</td>\n",
       "      <td>N</td>\n",
       "    </tr>\n",
       "    <tr>\n",
       "      <th>9</th>\n",
       "      <td>66.8</td>\n",
       "      <td>120</td>\n",
       "      <td>39</td>\n",
       "      <td>31</td>\n",
       "      <td>N</td>\n",
       "    </tr>\n",
       "  </tbody>\n",
       "</table>\n",
       "</div>"
      ],
      "text/plain": [
       "   Height_in  Weight_lb  Age_yr  Grip_kg Frailty\n",
       "0       65.8        112      30       28       N\n",
       "1       71.5        136      19       31       N\n",
       "2       69.4        153      45       29       N\n",
       "3       68.2        142      22       28       Y\n",
       "4       67.8        144      29       24       Y\n",
       "5       68.7        123      50       26       N\n",
       "6       69.8        141      51       22       Y\n",
       "7       70.1        136      23       20       Y\n",
       "8       67.9        112      17       19       N\n",
       "9       66.8        120      39       31       N"
      ]
     },
     "execution_count": 54,
     "metadata": {},
     "output_type": "execute_result"
    }
   ],
   "source": [
    "df"
   ]
  },
  {
   "cell_type": "code",
   "execution_count": 55,
   "metadata": {},
   "outputs": [],
   "source": [
    "df[\"Height_m\"] = df[\"Height_in\"] * 0.0254\n",
    "df[\"Weight_kg\"] = df[\"Weight_lb\"] * 0.45359237\n"
   ]
  },
  {
   "cell_type": "code",
   "execution_count": 56,
   "metadata": {},
   "outputs": [],
   "source": [
    "# BMI = weight (kg) / height^2 (m^2), rounded to 2 decimals\n",
    "df[\"BMI\"] = (df[\"Weight_kg\"] / (df[\"Height_m\"] ** 2)).round(2)\n",
    "\n",
    "# Age group categorization\n",
    "def age_group(age):\n",
    "    if age < 30:\n",
    "        return \"<30\"\n",
    "    elif 30 <= age <= 45:\n",
    "        return \"30-45\"\n",
    "    elif 46 <= age <= 60:\n",
    "        return \"46-60\"\n",
    "    else:\n",
    "        return \">60\"\n",
    "\n",
    "df[\"AgeGroup\"] = df[\"Age_yr\"].apply(age_group)\n"
   ]
  },
  {
   "cell_type": "code",
   "execution_count": 57,
   "metadata": {},
   "outputs": [
    {
     "name": "stdout",
     "output_type": "stream",
     "text": [
      "   Height_in  Weight_lb  Age_yr  Grip_kg Frailty  Height_m  Weight_kg    BMI  \\\n",
      "0       65.8        112      30       28       N   1.67132  50.802345  18.19   \n",
      "1       71.5        136      19       31       N   1.81610  61.688562  18.70   \n",
      "2       69.4        153      45       29       N   1.76276  69.399633  22.33   \n",
      "3       68.2        142      22       28       Y   1.73228  64.410117  21.46   \n",
      "4       67.8        144      29       24       Y   1.72212  65.317301  22.02   \n",
      "5       68.7        123      50       26       N   1.74498  55.791862  18.32   \n",
      "6       69.8        141      51       22       Y   1.77292  63.956524  20.35   \n",
      "7       70.1        136      23       20       Y   1.78054  61.688562  19.46   \n",
      "8       67.9        112      17       19       N   1.72466  50.802345  17.08   \n",
      "9       66.8        120      39       31       N   1.69672  54.431084  18.91   \n",
      "\n",
      "   Frailty_binary  AgeGroup_30-45  AgeGroup_46-60  AgeGroup_<30  \n",
      "0               0            True           False         False  \n",
      "1               0           False           False          True  \n",
      "2               0            True           False         False  \n",
      "3               1           False           False          True  \n",
      "4               1           False           False          True  \n",
      "5               0           False            True         False  \n",
      "6               1           False            True         False  \n",
      "7               1           False           False          True  \n",
      "8               0           False           False          True  \n",
      "9               0            True           False         False   \n",
      "\n"
     ]
    }
   ],
   "source": [
    "# Binary encoding\n",
    "df[\"Frailty_binary\"] = df[\"Frailty\"].map({\"Y\": 1, \"N\": 0}).astype(\"int8\")\n",
    "\n",
    "# One-hot encoding AgeGroup\n",
    "df = pd.get_dummies(df, columns=[\"AgeGroup\"], prefix=\"AgeGroup\")\n",
    "print(df, \"\\n\")"
   ]
  },
  {
   "cell_type": "code",
   "execution_count": 58,
   "metadata": {},
   "outputs": [
    {
     "name": "stdout",
     "output_type": "stream",
     "text": [
      "Step 3a: Summary Statistics\n",
      "                      mean      median        std\n",
      "Height_in        68.600000   68.450000   1.670662\n",
      "Weight_lb       131.900000  136.000000  14.231811\n",
      "Age_yr           32.500000   29.500000  12.860361\n",
      "Grip_kg          25.800000   27.000000   4.366539\n",
      "Height_m          1.742440    1.738630   0.042435\n",
      "Weight_kg        59.828834   61.688562   6.455441\n",
      "BMI              19.682000   19.185000   1.780972\n",
      "Frailty_binary    0.400000    0.000000   0.516398 \n",
      "\n"
     ]
    }
   ],
   "source": [
    "summary = df.describe().T[[\"mean\", \"50%\", \"std\"]].rename(columns={\"50%\": \"median\"})\n",
    "print(\"Step 3a: Summary Statistics\")\n",
    "print(summary, \"\\n\")\n",
    "\n"
   ]
  },
  {
   "cell_type": "code",
   "execution_count": 59,
   "metadata": {},
   "outputs": [
    {
     "name": "stdout",
     "output_type": "stream",
     "text": [
      "Correlation between Grip_kg and Frailty_binary: -0.45333950359163006 \n",
      "\n"
     ]
    }
   ],
   "source": [
    "correlation = df[\"Grip_kg\"].corr(df[\"Frailty_binary\"])\n",
    "print(\"Correlation between Grip_kg and Frailty_binary:\", correlation, \"\\n\")\n"
   ]
  },
  {
   "cell_type": "code",
   "execution_count": 60,
   "metadata": {},
   "outputs": [],
   "source": [
    "with open(\"reports/findings.md\", \"w\") as f:\n",
    "    f.write(\"# Findings for Question 1\\n\\n\")\n",
    "    f.write(\"## Summary Statistics\\n\")\n",
    "    f.write(summary.to_markdown())\n",
    "    f.write(\"\\n\\n## Correlation Analysis\\n\")\n",
    "    f.write(f\"Correlation between Grip_kg and Frailty_binary: {correlation}\")"
   ]
  }
 ],
 "metadata": {
  "kernelspec": {
   "display_name": "ds-venv",
   "language": "python",
   "name": "python3"
  },
  "language_info": {
   "codemirror_mode": {
    "name": "ipython",
    "version": 3
   },
   "file_extension": ".py",
   "mimetype": "text/x-python",
   "name": "python",
   "nbconvert_exporter": "python",
   "pygments_lexer": "ipython3",
   "version": "3.12.8"
  }
 },
 "nbformat": 4,
 "nbformat_minor": 2
}
